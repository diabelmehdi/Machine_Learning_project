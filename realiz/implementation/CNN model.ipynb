{
 "cells": [
  {
   "cell_type": "code",
   "execution_count": null,
   "metadata": {},
   "outputs": [],
   "source": [
    "import pandas as pd\n",
    "from keras.models import Sequential\n",
    "from keras.utils import np_utils as utils\n",
    "from keras.layers import Dropout, Dense, Flatten\n",
    "from keras.layers.convolutional import Conv2D, MaxPooling2D\n",
    "from tensorflow.keras.utils import to_categorical\n",
    "import keras\n",
    "import numpy as np\n",
    "import matplotlib.pyplot as plt\n",
    "from sklearn.metrics import confusion_matrix\n",
    "from sklearn.metrics import  f1_score, roc_auc_score, roc_curve"
   ]
  },
  {
   "cell_type": "code",
   "execution_count": null,
   "metadata": {},
   "outputs": [],
   "source": [
    "#object 1\n",
    "s = ['side1-0.5.csv', 'side1-0.8.csv', 'side1-1.2m.csv', 'side1-1.6.csv', 'side2-0.5.csv', 'side2-0.8.csv', 'side2-1.2.csv', 'side2-1.6.csv']\n",
    "\n",
    "c = pd.read_csv('object1/'+s[0])\n",
    "c2 = pd.read_csv('object1/'+s[1])\n",
    "c3 = pd.read_csv('object1/'+s[2])\n",
    "c4 = pd.read_csv('object1/'+s[3])\n",
    "c5 = pd.read_csv('object1/'+s[4])\n",
    "c6 = pd.read_csv('object1/'+s[5])\n",
    "c7 = pd.read_csv('object1/'+s[6])\n",
    "c8 = pd.read_csv('object1/'+s[7])"
   ]
  },
  {
   "cell_type": "code",
   "execution_count": null,
   "metadata": {},
   "outputs": [],
   "source": [
    "#object 2\n",
    "s = ['front-black-1.csv', 'front-black-1.2.csv','front-black0.5.csv','front-yellow-1.2.csv', 'front-yellow-1.csv','front-yellow0.5.csv',\n",
    "     'frontblack-0.8.csv','frontblack-1.5.csv', 'frontblack-1.6.csv', 'frontyellow-0.8.csv','frontyellow-1.6.csv',]\n",
    "\n",
    "o = pd.read_csv('object2/'+s[0])\n",
    "o2 = pd.read_csv('object2/'+s[1])\n",
    "o3 = pd.read_csv('object2/'+s[2])\n",
    "o4 = pd.read_csv('object2/'+s[3])\n",
    "o5 = pd.read_csv('object2/'+s[4])\n",
    "o6 = pd.read_csv('object2/'+s[5])\n",
    "o7 = pd.read_csv('object2/'+s[6])\n",
    "o8 = pd.read_csv('object2/'+s[7])\n",
    "o9 = pd.read_csv('object2/'+s[8])\n",
    "o10 = pd.read_csv('object2/'+s[9])\n",
    "o11 = pd.read_csv('object2/'+s[10])"
   ]
  },
  {
   "cell_type": "code",
   "execution_count": null,
   "metadata": {},
   "outputs": [],
   "source": [
    "#Prepairing training set !!! test_data %20\n",
    "\n",
    "\n",
    "#label 0 in y\n",
    "dtr1 = c[c.columns[24:30]] \n",
    "dtr2 = c2[c2.columns[24:30]] \n",
    "dtr3 = c3[c3.columns[24:30]] \n",
    "dtr4 = c4[c4.columns[24:30]] \n",
    "dtr5 = c5[c5.columns[24:30]] \n",
    "dtr6 = c6[c6.columns[24:30]]  \n",
    "dtr7 = c7[c7.columns[24:30]]  \n",
    "dtr8 = c8[c8.columns[24:30]] \n",
    "\n",
    "#label 1 in y\n",
    "dt1 = o[o.columns[24:30]]  \n",
    "dt2 = o2[o2.columns[24:30]] \n",
    "dt3 = o3[o3.columns[24:30]] \n",
    "dt4 = o4[o4.columns[24:30]] \n",
    "dt5 = o5[o5.columns[24:30]]  \n",
    "dt6 = o6[o6.columns[24:30]] \n",
    "dt7 = o7[o7.columns[24:30]] \n",
    "dt8 = o8[o8.columns[24:30]] \n",
    "dt9 = o9[o9.columns[24:30]]  \n",
    "dt10 = o10[o10.columns[24:30]] \n",
    "dt11 = o11[o11.columns[24:30]] \n",
    "\n",
    "dy_test = [0]* 48 +[1] * 66\n",
    "dy_test = np.asarray(dy_test)\n",
    "\n",
    "d_test = pd.concat([dtr1, dtr2, dtr3, dtr4, dtr5, dtr6, dtr7, dtr8, dt1, dt2, dt3, dt4, dt5, dt6, dt7, dt8, dt9, dt10, dt11], axis=1, join='inner') \n",
    "dy_test\n"
   ]
  },
  {
   "cell_type": "code",
   "execution_count": null,
   "metadata": {},
   "outputs": [],
   "source": [
    "#Prepairing training set !!! Validation_data %20\n",
    "\n",
    "dtr1 = c[c.columns[18:24]] \n",
    "dtr2 = c2[c2.columns[18:24]] \n",
    "dtr3 = c3[c3.columns[18:24]] \n",
    "dtr4 = c4[c4.columns[18:24]] \n",
    "dtr5 = c5[c5.columns[18:24]] \n",
    "dtr6 = c6[c6.columns[18:24]] \n",
    "dtr7 = c7[c7.columns[18:24]] \n",
    "dtr8 = c8[c8.columns[18:24]] \n",
    "\n",
    "dt1 = o[o.columns[18:24]] \n",
    "dt2 = o2[o2.columns[18:24]] \n",
    "dt3 = o3[o3.columns[18:24]] \n",
    "dt4 = o4[o4.columns[18:24]] \n",
    "dt5 = o5[o5.columns[18:24]] \n",
    "dt6 = o6[o6.columns[18:24]] \n",
    "dt7 = o7[o7.columns[18:24]] \n",
    "dt8 = o8[o8.columns[18:24]] \n",
    "dt9 = o9[o9.columns[18:24]] \n",
    "dt10 = o10[o10.columns[18:24]] \n",
    "dt11 = o11[o11.columns[18:24]] \n",
    "\n",
    "dy_val = [0]* 48 +[1] * 66\n",
    "dy_val = np.asarray(dy_val)\n",
    "\n",
    "d_val = pd.concat([dtr1, dtr2, dtr3, dtr4, dtr5, dtr6, dtr7, dtr8, dt1, dt2, dt3, dt4, dt5, dt6, dt7, dt8, dt9, dt10, dt11], axis=1, join='inner') \n",
    "dy_val.shape\n"
   ]
  },
  {
   "cell_type": "code",
   "execution_count": null,
   "metadata": {},
   "outputs": [],
   "source": [
    "#Prepairing training set !!! train_data %60\n",
    "\n",
    "dtr1 = c[c.columns[:18]] \n",
    "dtr2 = c2[c2.columns[:18]] \n",
    "dtr3 = c3[c3.columns[:18]] \n",
    "dtr4 = c4[c4.columns[:18]] \n",
    "dtr5 = c5[c5.columns[:18]] \n",
    "dtr6 = c6[c6.columns[:18]] \n",
    "dtr7 = c7[c7.columns[:18]] \n",
    "dtr8 = c8[c8.columns[:18]] \n",
    "\n",
    "dt1 = o[o.columns[:18]] \n",
    "dt2 = o2[o2.columns[:18]] \n",
    "dt3 = o3[o3.columns[:18]] \n",
    "dt4 = o4[o4.columns[:18]] \n",
    "dt5 = o5[o5.columns[:18]] \n",
    "dt6 = o6[o6.columns[:18]] \n",
    "dt7 = o7[o7.columns[:18]] \n",
    "dt8 = o8[o8.columns[:18]] \n",
    "dt9 = o9[o9.columns[:18]] \n",
    "dt10 = o10[o10.columns[:18]] \n",
    "dt11 = o11[o11.columns[:18]] \n",
    "\n",
    "dy_tr = [0]* 144 +[1] * 198\n",
    "dy_tr = np.asarray(dy_tr)\n",
    "\n",
    "d_train = pd.concat([dtr1, dtr2, dtr3, dtr4, dtr5, dtr6, dtr7, dtr8, dt1, dt2, dt3, dt4, dt5, dt6, dt7, dt8, dt9, dt10, dt11], axis=1, join='inner') \n",
    "d_train.shape\n"
   ]
  },
  {
   "cell_type": "code",
   "execution_count": 7,
   "metadata": {},
   "outputs": [
    {
     "data": {
      "text/plain": [
       "(114, 2)"
      ]
     },
     "execution_count": 7,
     "metadata": {},
     "output_type": "execute_result"
    }
   ],
   "source": [
    "# Reshaping DATA X_train\n",
    "\n",
    "X_train = d_train.transpose()\n",
    "X_train = np.array(X_train.values.tolist())\n",
    "X_train = X_train.reshape(342,1, 16384,1)\n",
    "\n",
    "\n",
    "# Reshaping DATA X_validation\n",
    "\n",
    "X_validation = d_val.transpose()\n",
    "X_validation = np.array(X_validation.values.tolist())\n",
    "X_validation = X_validation.reshape(114,1, 16384,1)\n",
    "\n",
    "# Reshaping DATA X_test\n",
    "\n",
    "X_test = d_test.transpose()\n",
    "X_test = np.array(X_test.values.tolist())\n",
    "X_test = X_test.reshape(114,1, 16384,1)\n",
    "\n",
    "# Y train assigning\n",
    "y_train = dy_tr\n",
    "y_train = to_categorical(y_train)\n",
    "\n",
    "# Y validation assigning\n",
    "y_validation = dy_val\n",
    "y_validation = to_categorical(y_validation)\n",
    "\n",
    "# Y test assigning\n",
    "y_test = dy_test\n",
    "y_test = to_categorical(y_test)\n",
    "\n",
    "y_test.shape"
   ]
  },
  {
   "cell_type": "code",
   "execution_count": 8,
   "metadata": {},
   "outputs": [],
   "source": [
    "model = Sequential()\n",
    "\n",
    "# 1st conv layer\n",
    "model.add(Conv2D(32, (1, 2), activation='relu', input_shape=(1,16384,1)))\n",
    "model.add(MaxPooling2D((1, 2), strides=(1, 2), padding='same'))\n",
    "model.add(keras.layers.BatchNormalization())\n",
    "# 2nd conv layer\n",
    "model.add(keras.layers.Conv2D(32, (1, 2), activation='relu'))\n",
    "model.add(keras.layers.MaxPooling2D((1, 2), strides=(1, 2), padding='same'))\n",
    "model.add(keras.layers.BatchNormalization())\n",
    "\n",
    "# 3rd conv layer\n",
    "model.add(keras.layers.Conv2D(32, (1, 2), activation='relu'))\n",
    "model.add(keras.layers.MaxPooling2D((1, 2), strides=(1, 2), padding='same'))\n",
    "model.add(keras.layers.BatchNormalization())\n",
    "\n",
    "# flatten output and feed it into dense layer\n",
    "model.add(keras.layers.Flatten())\n",
    "model.add(keras.layers.Dense(80, activation='relu'))\n",
    "model.add(keras.layers.Dropout(0.3))\n",
    "\n",
    "# output layer\n",
    "model.add(keras.layers.Dense(2, activation='softmax'))"
   ]
  },
  {
   "cell_type": "code",
   "execution_count": 9,
   "metadata": {},
   "outputs": [
    {
     "name": "stdout",
     "output_type": "stream",
     "text": [
      "Model: \"sequential\"\n",
      "_________________________________________________________________\n",
      "Layer (type)                 Output Shape              Param #   \n",
      "=================================================================\n",
      "conv2d (Conv2D)              (None, 1, 16383, 32)      96        \n",
      "_________________________________________________________________\n",
      "max_pooling2d (MaxPooling2D) (None, 1, 8192, 32)       0         \n",
      "_________________________________________________________________\n",
      "batch_normalization (BatchNo (None, 1, 8192, 32)       128       \n",
      "_________________________________________________________________\n",
      "conv2d_1 (Conv2D)            (None, 1, 8191, 32)       2080      \n",
      "_________________________________________________________________\n",
      "max_pooling2d_1 (MaxPooling2 (None, 1, 4096, 32)       0         \n",
      "_________________________________________________________________\n",
      "batch_normalization_1 (Batch (None, 1, 4096, 32)       128       \n",
      "_________________________________________________________________\n",
      "conv2d_2 (Conv2D)            (None, 1, 4095, 32)       2080      \n",
      "_________________________________________________________________\n",
      "max_pooling2d_2 (MaxPooling2 (None, 1, 2048, 32)       0         \n",
      "_________________________________________________________________\n",
      "batch_normalization_2 (Batch (None, 1, 2048, 32)       128       \n",
      "_________________________________________________________________\n",
      "flatten (Flatten)            (None, 65536)             0         \n",
      "_________________________________________________________________\n",
      "dense (Dense)                (None, 80)                5242960   \n",
      "_________________________________________________________________\n",
      "dropout (Dropout)            (None, 80)                0         \n",
      "_________________________________________________________________\n",
      "dense_1 (Dense)              (None, 2)                 162       \n",
      "=================================================================\n",
      "Total params: 5,247,762\n",
      "Trainable params: 5,247,570\n",
      "Non-trainable params: 192\n",
      "_________________________________________________________________\n"
     ]
    }
   ],
   "source": [
    "optimiser = keras.optimizers.Adam(learning_rate=0.0001)\n",
    "model.compile(optimizer=optimiser,\n",
    "                  loss='categorical_crossentropy',\n",
    "                  metrics=['accuracy'])\n",
    "\n",
    "model.summary()"
   ]
  },
  {
   "cell_type": "code",
   "execution_count": 10,
   "metadata": {},
   "outputs": [
    {
     "name": "stdout",
     "output_type": "stream",
     "text": [
      "Epoch 1/10\n",
      "69/69 [==============================] - 25s 274ms/step - loss: 1.1308 - accuracy: 0.7350 - val_loss: 0.4817 - val_accuracy: 0.8333\n",
      "Epoch 2/10\n",
      "69/69 [==============================] - 11s 157ms/step - loss: 0.2428 - accuracy: 0.9379 - val_loss: 0.3748 - val_accuracy: 0.8421\n",
      "Epoch 3/10\n",
      "69/69 [==============================] - 10s 150ms/step - loss: 0.1597 - accuracy: 0.9256 - val_loss: 0.3396 - val_accuracy: 0.8947\n",
      "Epoch 4/10\n",
      "69/69 [==============================] - 10s 151ms/step - loss: 0.0518 - accuracy: 0.9733 - val_loss: 0.2541 - val_accuracy: 0.8772\n",
      "Epoch 5/10\n",
      "69/69 [==============================] - 11s 155ms/step - loss: 0.0203 - accuracy: 0.9935 - val_loss: 0.1039 - val_accuracy: 0.9474\n",
      "Epoch 6/10\n",
      "69/69 [==============================] - 11s 155ms/step - loss: 0.0624 - accuracy: 0.9625 - val_loss: 0.1115 - val_accuracy: 0.9649\n",
      "Epoch 7/10\n",
      "69/69 [==============================] - 11s 153ms/step - loss: 0.0054 - accuracy: 0.9990 - val_loss: 0.0346 - val_accuracy: 0.9912\n",
      "Epoch 8/10\n",
      "69/69 [==============================] - 10s 152ms/step - loss: 0.0202 - accuracy: 0.9935 - val_loss: 0.0663 - val_accuracy: 0.9825\n",
      "Epoch 9/10\n",
      "69/69 [==============================] - 10s 151ms/step - loss: 0.0024 - accuracy: 1.0000 - val_loss: 0.0478 - val_accuracy: 0.9912\n",
      "Epoch 10/10\n",
      "69/69 [==============================] - 11s 153ms/step - loss: 0.0045 - accuracy: 0.9979 - val_loss: 0.0347 - val_accuracy: 0.9912\n"
     ]
    }
   ],
   "source": [
    "history = model.fit(X_train, y_train, validation_data=(X_validation, y_validation), batch_size=5, epochs=10)"
   ]
  },
  {
   "cell_type": "code",
   "execution_count": 11,
   "metadata": {},
   "outputs": [
    {
     "data": {
      "text/plain": [
       "array([[[[ 9.   ],\n",
       "         [ 6.   ],\n",
       "         [ 8.   ],\n",
       "         ...,\n",
       "         [12.247],\n",
       "         [12.248],\n",
       "         [ 8.413]]]])"
      ]
     },
     "execution_count": 11,
     "metadata": {},
     "output_type": "execute_result"
    }
   ],
   "source": [
    "X_test[0] .reshape(1,1,16384,1)"
   ]
  },
  {
   "cell_type": "code",
   "execution_count": 22,
   "metadata": {},
   "outputs": [
    {
     "name": "stdout",
     "output_type": "stream",
     "text": [
      "1/1 [==============================] - 0s 58ms/step\n"
     ]
    },
    {
     "data": {
      "text/plain": [
       "1"
      ]
     },
     "execution_count": 22,
     "metadata": {},
     "output_type": "execute_result"
    }
   ],
   "source": [
    "rounded_predictions = predict_classes(model, X_test[55] .reshape(1,1,16384,1));\n",
    "rounded_predictions[0]"
   ]
  },
  {
   "cell_type": "code",
   "execution_count": 23,
   "metadata": {},
   "outputs": [
    {
     "data": {
      "image/png": "[encoded data removed]",
      "text/plain": [
       "<Figure size 1008x432 with 2 Axes>"
      ]
     },
     "metadata": {
      "needs_background": "light"
     },
     "output_type": "display_data"
    }
   ],
   "source": [
    "## Ploting\n",
    "\n",
    "history_dict = history.history\n",
    "loss_values = history_dict['loss']\n",
    "val_loss_values = history_dict['val_loss']\n",
    "accuracy = history_dict['accuracy']\n",
    "val_accuracy = history_dict['val_accuracy']\n",
    "  \n",
    "epochs = range(1, len(loss_values) + 1)\n",
    "fig, ax = plt.subplots(1, 2, figsize=(14, 6))\n",
    "#\n",
    "# Plot the model accuracy vs Epochs\n",
    "#\n",
    "ax[0].plot(epochs, accuracy, 'bo', label='Training accuracy')\n",
    "ax[0].plot(epochs, val_accuracy, 'r', label='Validation accuracy')\n",
    "ax[0].set_title('Training &amp; Validation Accuracy', fontsize=16)\n",
    "ax[0].set_xlabel('Epochs', fontsize=16)\n",
    "ax[0].set_ylabel('Accuracy', fontsize=16)\n",
    "ax[0].legend()\n",
    "#\n",
    "# Plot the loss vs Epochs\n",
    "#\n",
    "ax[1].plot(epochs, loss_values, 'bx', label='Training loss') \n",
    "ax[1].plot(epochs, val_loss_values, 'r', label='Validation loss')\n",
    "ax[1].set_title('Training &amp; Validation Loss', fontsize=16)\n",
    "ax[1].set_xlabel('Epochs', fontsize=16)\n",
    "ax[1].set_ylabel('Loss', fontsize=16)\n",
    "ax[1].legend()\n",
    "\n",
    "plt.show()"
   ]
  },
  {
   "cell_type": "code",
   "execution_count": 24,
   "metadata": {},
   "outputs": [
    {
     "name": "stdout",
     "output_type": "stream",
     "text": [
      "4/4 [==============================] - 0s 116ms/step - loss: 0.1382 - accuracy: 0.9474\n",
      "test_acc: 0.9473684430122375\n",
      "test_loss: 0.1382087767124176\n",
      "4/4 [==============================] - 1s 116ms/step\n",
      "1/1 [==============================] - 0s 124ms/step\n",
      "4/4 [==============================] - 1s 128ms/step\n",
      "1/1 [==============================] - 0s 30ms/step\n"
     ]
    }
   ],
   "source": [
    "test_loss, test_acc = model.evaluate(X_test, y_test)\n",
    "\n",
    "print('test_acc:',test_acc )\n",
    "print('test_loss:',test_loss )"
   ]
  },
  {
   "cell_type": "code",
   "execution_count": 20,
   "metadata": {},
   "outputs": [],
   "source": [
    "def predict_classes(self, x, batch_size=32, verbose=1):\n",
    "    '''Generate class predictions for the input samples\n",
    "    batch by batch.\n",
    "    # Arguments\n",
    "        x: input data, as a Numpy array or list of Numpy arrays\n",
    "            (if the model has multiple inputs).\n",
    "        batch_size: integer.\n",
    "        verbose: verbosity mode, 0 or 1.\n",
    "    # Returns\n",
    "        A numpy array of class predictions.\n",
    "    '''\n",
    "    proba = self.predict(x, batch_size=batch_size, verbose=verbose)\n",
    "    if proba.shape[-1] > 1:\n",
    "        return proba.argmax(axis=-1)\n",
    "    else:\n",
    "        return (proba > 0.5).astype('int32')"
   ]
  },
  {
   "cell_type": "code",
   "execution_count": 21,
   "metadata": {},
   "outputs": [
    {
     "name": "stdout",
     "output_type": "stream",
     "text": [
      "4/4 [==============================] - 2s 137ms/step\n",
      "FP :  [1 5]\n",
      "FN :  [5 1]\n",
      "TP :  [43 65]\n",
      "TN :  [65 43]\n",
      "TPR :  [0.89583333 0.98484848]\n",
      "TNR :  [0.98484848 0.89583333]\n",
      "PPV :  [0.97727273 0.92857143]\n",
      "NPV :  [0.92857143 0.97727273]\n",
      "FPR :  [0.01515152 0.10416667]\n",
      "FNR :  [0.10416667 0.01515152]\n",
      "FDR :  [0.02272727 0.07142857]\n",
      "ACC :  [0.94736842 0.94736842]\n",
      "F1 Score :  0.9558823529411765\n"
     ]
    }
   ],
   "source": [
    "# Rounding predictions because of multiclasses\n",
    "rounded_predictions = predict_classes(model, X_test);\n",
    "rounded_labels=np.argmax(y_test, axis=1)\n",
    "cm = confusion_matrix(rounded_labels, rounded_predictions)\n",
    "\n",
    "# FP, FN, TP, TN\n",
    "FP = cm.sum(axis=0) - np.diag(cm)  \n",
    "print(\"FP : \",FP)\n",
    "FN = cm.sum(axis=1) - np.diag(cm)\n",
    "print(\"FN : \",FN)\n",
    "TP = np.diag(cm)\n",
    "print(\"TP : \",TP)\n",
    "TN = cm.sum() - (FP + FN + TP)\n",
    "print(\"TN : \",TN)\n",
    "\n",
    "# Sensitivity, hit rate, recall, or true positive rate\n",
    "TPR = TP/(TP+FN)\n",
    "print(\"TPR : \",TPR)\n",
    "\n",
    "# Specificity or true negative rate\n",
    "TNR = TN/(TN+FP) \n",
    "print(\"TNR : \",TNR)\n",
    "\n",
    "# Precision or positive predictive value\n",
    "PPV = TP/(TP+FP)\n",
    "print(\"PPV : \", PPV)\n",
    "\n",
    "# Negative predictive value\n",
    "NPV = TN/(TN+FN)\n",
    "print(\"NPV : \",NPV)\n",
    "\n",
    "# Fall out or false positive rate\n",
    "FPR = FP/(FP+TN)\n",
    "print(\"FPR : \",FPR)\n",
    "\n",
    "# False negative rate\n",
    "FNR = FN/(TP+FN)\n",
    "print(\"FNR : \",FNR)\n",
    "\n",
    "# False discovery rate\n",
    "FDR = FP/(TP+FP)\n",
    "print(\"FDR : \",FDR)\n",
    "\n",
    "# Overall accuracy\n",
    "ACC = (TP+TN)/(TP+FP+FN+TN)\n",
    "print(\"ACC : \",ACC)\n",
    "\n",
    "# F1 Score\n",
    "F1 = f1_score(rounded_labels, rounded_predictions)\n",
    "print(\"F1 Score : \", F1)"
   ]
  },
  {
   "cell_type": "code",
   "execution_count": null,
   "metadata": {},
   "outputs": [],
   "source": [
    "def plot_roc_curve(fpr, tpr):\n",
    "    plt.plot(fpr, tpr, color='orange', label='ROC')\n",
    "    plt.plot([0, 1], [0, 1], color='darkblue', linestyle='--')\n",
    "    plt.xlabel('False Positive Rate')\n",
    "    plt.ylabel('True Positive Rate')\n",
    "    plt.title('Receiver Operating Characteristic (ROC) Curve')\n",
    "    plt.legend()\n",
    "    plt.show()\n",
    "\n",
    "auc = roc_auc_score(rounded_labels, rounded_predictions)\n",
    "print('AUC: %.2f' % auc)"
   ]
  },
  {
   "cell_type": "code",
   "execution_count": null,
   "metadata": {},
   "outputs": [],
   "source": [
    "plot_roc_curve(FPR, TPR)"
   ]
  },
  {
   "cell_type": "markdown",
   "metadata": {},
   "source": [
    "## For more information about ROC \n",
    "\n",
    "https://stackabuse.com/understanding-roc-curves-with-python/"
   ]
  },
  {
   "cell_type": "markdown",
   "metadata": {},
   "source": [
    "----\n",
    "# Anvil prep\n",
    "-----"
   ]
  },
  {
   "cell_type": "code",
   "execution_count": 13,
   "metadata": {},
   "outputs": [
    {
     "name": "stdout",
     "output_type": "stream",
     "text": [
      "Requirement already satisfied: anvil-uplink in c:\\users\\diab\\anaconda3\\lib\\site-packages (0.3.34)Note: you may need to restart the kernel to use updated packages.\n",
      "\n",
      "Requirement already satisfied: ws4py in c:\\users\\diab\\anaconda3\\lib\\site-packages (from anvil-uplink) (0.5.1)\n",
      "Requirement already satisfied: argparse in c:\\users\\diab\\anaconda3\\lib\\site-packages (from anvil-uplink) (1.4.0)\n",
      "Requirement already satisfied: six in c:\\users\\diab\\anaconda3\\lib\\site-packages (from anvil-uplink) (1.15.0)\n",
      "Requirement already satisfied: future in c:\\users\\diab\\anaconda3\\lib\\site-packages (from anvil-uplink) (0.18.2)\n"
     ]
    }
   ],
   "source": [
    "pip install anvil-uplink"
   ]
  },
  {
   "cell_type": "code",
   "execution_count": 14,
   "metadata": {},
   "outputs": [
    {
     "name": "stdout",
     "output_type": "stream",
     "text": [
      "Connecting to wss://anvil.works/uplink\n",
      "Anvil websocket open\n",
      "Connected to \"Default environment (dev)\" as SERVER\n"
     ]
    }
   ],
   "source": [
    "import anvil.server\n",
    "import anvil.mpl_util\n",
    "\n",
    "anvil.server.connect(\"IENQAFSXPANG77AFDTYTC4E2-5XNVA4KIZCRITORA\")"
   ]
  },
  {
   "cell_type": "code",
   "execution_count": 35,
   "metadata": {},
   "outputs": [
    {
     "data": {
      "image/png": "[encoded data removed]",
      "text/plain": [
       "<Figure size 432x288 with 1 Axes>"
      ]
     },
     "metadata": {
      "needs_background": "light"
     },
     "output_type": "display_data"
    },
    {
     "name": "stdout",
     "output_type": "stream",
     "text": [
      "Anvil websocket closed (code 1006, reason=Going away)\n"
     ]
    },
    {
     "name": "stderr",
     "output_type": "stream",
     "text": [
      "Exception in thread Thread-9:\n",
      "Traceback (most recent call last):\n",
      "  File \"C:\\Users\\DIAB\\anaconda3\\lib\\site-packages\\anvil\\server.py\", line 306, in call\n"
     ]
    },
    {
     "name": "stdout",
     "output_type": "stream",
     "text": [
      "Reconnecting Anvil Uplink...\n",
      "Connecting to wss://anvil.works/uplink\n"
     ]
    },
    {
     "name": "stderr",
     "output_type": "stream",
     "text": [
      "    return _do_call(args, kwargs, fn_name=fn_name)\n",
      "  File \"C:\\Users\\DIAB\\anaconda3\\lib\\site-packages\\anvil\\server.py\", line 298, in _do_call\n",
      "    return _threaded_server.do_call(args, kwargs, fn_name=fn_name, live_object=live_object)\n",
      "  File \"C:\\Users\\DIAB\\anaconda3\\lib\\site-packages\\anvil\\_threaded_server.py\", line 403, in do_call\n",
      "    raise _server._deserialise_exception(r[\"error\"])\n",
      "anvil._server.AnvilWrappedError: 'Connection to Anvil Uplink server lost'\n",
      "\n",
      "During handling of the above exception, another exception occurred:\n",
      "\n",
      "Traceback (most recent call last):\n",
      "  File \"C:\\Users\\DIAB\\anaconda3\\lib\\threading.py\", line 932, in _bootstrap_inner\n",
      "    self.run()\n",
      "  File \"C:\\Users\\DIAB\\anaconda3\\lib\\threading.py\", line 870, in run\n",
      "    self._target(*self._args, **self._kwargs)\n",
      "  File \"C:\\Users\\DIAB\\anaconda3\\lib\\site-packages\\anvil\\server.py\", line 143, in heartbeat_until_reopened\n",
      "    call(\"anvil.private.echo\", \"keep-alive\")\n",
      "  File \"C:\\Users\\DIAB\\anaconda3\\lib\\site-packages\\anvil\\server.py\", line 309, in call\n",
      "    raise _server._deserialise_exception(e.error_obj)\n",
      "anvil._server.AnvilWrappedError: 'Connection to Anvil Uplink server lost'\n"
     ]
    },
    {
     "name": "stdout",
     "output_type": "stream",
     "text": [
      "Anvil websocket open\n",
      "Connected to \"Default environment (dev)\" as SERVER\n"
     ]
    }
   ],
   "source": [
    "@anvil.server.callable\n",
    "def roc_elem(test_id):\n",
    "    \n",
    "    rounded_predictions = predict_classes(model, X_test);\n",
    "    rounded_labels=np.argmax(y_test, axis=1)\n",
    "    cm = confusion_matrix(rounded_labels, rounded_predictions)\n",
    "\n",
    "    # FP, FN, TP, TN\n",
    "    FP = cm.sum(axis=0) - np.diag(cm)  \n",
    "    \n",
    "    FN = cm.sum(axis=1) - np.diag(cm)\n",
    "    \n",
    "    TP = np.diag(cm)\n",
    "    \n",
    "    TN = cm.sum() - (FP + FN + TP)\n",
    "\n",
    "    TPR = TP/(TP+FN)\n",
    "\n",
    "    TNR = TN/(TN+FP) \n",
    "\n",
    "    NPV = TN/(TN+FN)\n",
    "\n",
    "    FDR = FP/(TP+FP)\n",
    "\n",
    "    ACC = (TP+TN)/(TP+FP+FN+TN)\n",
    "\n",
    "    F1 = f1_score(rounded_labels, rounded_predictions)\n",
    "    \n",
    "    return TP, TN, FP, FN, NPV, TNR, FDR, TPR, F1, ACC"
   ]
  },
  {
   "cell_type": "code",
   "execution_count": 32,
   "metadata": {},
   "outputs": [],
   "source": [
    "@anvil.server.callable\n",
    "def obj_detect(test_id):\n",
    "    rounded_predictions = predict_classes(model, X_test[test_id].reshape(1,1,16384,1));\n",
    "    return rounded_predictions[0] + 1\n",
    "    "
   ]
  },
  {
   "cell_type": "code",
   "execution_count": 33,
   "metadata": {},
   "outputs": [
    {
     "data": {
      "text/plain": [
       "(114, 1, 16384, 1)"
      ]
     },
     "execution_count": 33,
     "metadata": {},
     "output_type": "execute_result"
    }
   ],
   "source": [
    "X_test.shape"
   ]
  },
  {
   "cell_type": "code",
   "execution_count": 34,
   "metadata": {},
   "outputs": [
    {
     "name": "stdout",
     "output_type": "stream",
     "text": [
      "4/4 [==============================] - 1s 151ms/step\n",
      "1/1 [==============================] - 0s 60ms/step\n"
     ]
    }
   ],
   "source": [
    "import pandas as pd\n",
    "import matplotlib.pyplot as plt\n",
    "import matplotlib.mlab as mlab\n",
    "import numpy as np\n",
    "\n",
    "@anvil.server.callable\n",
    "def obj_plot(test_id):\n",
    "    plt.plot(X_test[test_id].reshape(16384, 1))\n",
    "    return anvil.mpl_util.plot_image()\n",
    "   "
   ]
  },
  {
   "cell_type": "code",
   "execution_count": 30,
   "metadata": {},
   "outputs": [
    {
     "data": {
      "text/plain": [
       "[<matplotlib.lines.Line2D at 0x2e0e5fd2760>]"
      ]
     },
     "execution_count": 30,
     "metadata": {},
     "output_type": "execute_result"
    },
    {
     "data": {
      "image/png": "[encoded data removed]",
      "text/plain": [
       "<Figure size 432x288 with 1 Axes>"
      ]
     },
     "metadata": {
      "needs_background": "light"
     },
     "output_type": "display_data"
    },
    {
     "name": "stdout",
     "output_type": "stream",
     "text": [
      "4/4 [==============================] - 1s 121ms/step\n",
      "1/1 [==============================] - 0s 59ms/step\n",
      "4/4 [==============================] - 1s 120ms/step\n",
      "1/1 [==============================] - 0s 54ms/step\n"
     ]
    }
   ],
   "source": [
    "plt.plot(X_test[0].reshape(16384, 1))"
   ]
  },
  {
   "cell_type": "code",
   "execution_count": null,
   "metadata": {},
   "outputs": [],
   "source": []
  }
 ],
 "metadata": {
  "kernelspec": {
   "display_name": "Python 3",
   "language": "python",
   "name": "python3"
  },
  "language_info": {
   "codemirror_mode": {
    "name": "ipython",
    "version": 3
   },
   "file_extension": ".py",
   "mimetype": "text/x-python",
   "name": "python",
   "nbconvert_exporter": "python",
   "pygments_lexer": "ipython3",
   "version": "3.8.5"
  }
 },
 "nbformat": 4,
 "nbformat_minor": 2
}
